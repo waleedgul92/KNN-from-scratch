{
  "nbformat": 4,
  "nbformat_minor": 0,
  "metadata": {
    "colab": {
      "provenance": []
    },
    "kernelspec": {
      "name": "python3",
      "display_name": "Python 3"
    },
    "language_info": {
      "name": "python"
    }
  },
  "cells": [
    {
      "cell_type": "code",
      "execution_count": 1,
      "metadata": {
        "id": "a-OQQEP_rPpT"
      },
      "outputs": [],
      "source": [
        "import numpy as np\n",
        "from collections import Counter"
      ]
    },
    {
      "cell_type": "code",
      "source": [
        "class knn:\n",
        "  def _init_(self,k=5):\n",
        "    self.n_neighbours=k\n",
        "    self.X_train=None\n",
        "    self.y_train=None\n",
        "  def fit(self,X_train,y_train):\n",
        "      self.X_train = X_train\n",
        "      self.y_train = y_train\n",
        "  def predict(self,X_test):\n",
        "\n",
        "    ypred=[]\n",
        "    for i in  X_test:\n",
        "      distance=[]\n",
        "      for j in self.X_train:\n",
        "        distance.append(self.calculate_distance(i,j))\n",
        "        n_neighbors = sorted(list(enumerate(distance)),key=lambda x:x[1])[0:self.n_neighbors]\n",
        "        label = self.majority_count(n_neighbors)\n",
        "      ypred.append(label)\n",
        "    return np.array(ypred)\n",
        "  def calculate_distance(self,point_A,point_B):\n",
        "      return np.linalg.norm(point_A - point_B)\n",
        "\n",
        "  def majority_count(self,neighbors):\n",
        "      votes = []\n",
        "      for i in neighbors:\n",
        "          votes.append(self.y_train[i[0]])\n",
        "      votes = Counter(votes)\n",
        "\n",
        "      return votes.most_common()[0][0]"
      ],
      "metadata": {
        "id": "rL_-w9W0rpOz"
      },
      "execution_count": 9,
      "outputs": []
    },
    {
      "cell_type": "code",
      "source": [],
      "metadata": {
        "id": "kKjFyswDsFBE"
      },
      "execution_count": null,
      "outputs": []
    }
  ]
}